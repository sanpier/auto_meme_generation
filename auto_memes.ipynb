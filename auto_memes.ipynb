{
 "cells": [
  {
   "cell_type": "code",
   "execution_count": 6,
   "metadata": {},
   "outputs": [],
   "source": [
    "import base64\n",
    "import io\n",
    "import openai\n",
    "import os\n",
    "import pandas as pd\n",
    "import requests\n",
    "import textwrap\n",
    "from PIL import Image, ImageDraw, ImageFont"
   ]
  },
  {
   "cell_type": "markdown",
   "metadata": {},
   "source": [
    "# OpenAI - API"
   ]
  },
  {
   "cell_type": "code",
   "execution_count": null,
   "metadata": {},
   "outputs": [],
   "source": [
    "# load your API key from an environment variable or secret management service\n",
    "openai.api_key = os.getenv(\"OPENAI_API_KEY\")\n",
    "openai.api_timeout = 10"
   ]
  },
  {
   "cell_type": "code",
   "execution_count": null,
   "metadata": {},
   "outputs": [],
   "source": [
    "# list engines\n",
    "engines = openai.Engine.list()\n",
    "\n",
    "# print the first engine's id\n",
    "print([i.id for i in engines.data])"
   ]
  },
  {
   "cell_type": "code",
   "execution_count": null,
   "metadata": {},
   "outputs": [],
   "source": [
    "# TODO: list roles\n",
    "role = \"Your task is to write prompts that will be used in text to image models for generating memes. \\\n",
    "        Your response can have multiple prompts in the following format for each: a long prompt that describes a funny and agitative situtation starting with 'Prompt:', \\\n",
    "        then the caption of the corresponding meme that follows the prompt starting with 'Caption:'.\"\n",
    "user = \"Please try to come up with imaginative, very funny and novel memes, that describes specific situations. \\\n",
    "        Memes should be sarcastic and didactic, and should make laugh people while make them thinking about the society they live in. \\\n",
    "        Would be great to have the main themes about critism of capitalism, critism of commodity fetishism, alienation, critisim of while collar people and corporate culture, or class inequality. \\\n",
    "        Ideologically, these memes should be positioned in economic-left.\""
   ]
  },
  {
   "cell_type": "code",
   "execution_count": null,
   "metadata": {},
   "outputs": [],
   "source": [
    "#df_prompt = pd.DataFrame(columns=[\"prompt\", \"caption\", \"seed\"])\n",
    "df_prompt = pd.read_csv(\"df_prompt.csv\")\n",
    "print(df_prompt.shape)"
   ]
  },
  {
   "cell_type": "code",
   "execution_count": null,
   "metadata": {},
   "outputs": [],
   "source": [
    "def gpt_request():\n",
    "    # ask the prompt\n",
    "    response = \"\"\n",
    "    try:\n",
    "        response = openai.ChatCompletion.create(\n",
    "            model= \"gpt-3.5-turbo\", # \"gpt-4\", \"gpt-3.5-turbo\",\n",
    "            temperature=1,\n",
    "            messages=[\n",
    "                {\"role\": \"system\", \"content\": role},\n",
    "                {\"role\": \"user\", \"content\": user},\n",
    "            ]\n",
    "        )\n",
    "    except:\n",
    "        pass\n",
    "    # return result\n",
    "    result = ''\n",
    "    try:\n",
    "        for choice in response.choices:\n",
    "            result += choice.message.content\n",
    "    except: \n",
    "        pass\n",
    "    return result"
   ]
  },
  {
   "cell_type": "code",
   "execution_count": null,
   "metadata": {},
   "outputs": [],
   "source": [
    "#prompt = gpt_request()\n",
    "#prompt"
   ]
  },
  {
   "cell_type": "markdown",
   "metadata": {},
   "source": [
    "# Stability - API"
   ]
  },
  {
   "cell_type": "code",
   "execution_count": null,
   "metadata": {},
   "outputs": [],
   "source": [
    "# constants\n",
    "url = \"https://api.stability.ai/v1/generation/stable-diffusion-xl-1024-v1-0/text-to-image\"\n",
    "\n",
    "headers = {\n",
    "  \"Accept\": \"application/json\",\n",
    "  \"Content-Type\": \"application/json\",\n",
    "  \"Authorization\": os.getenv(\"STABILITY_AI_API_KEY\"),\n",
    "}"
   ]
  },
  {
   "cell_type": "code",
   "execution_count": null,
   "metadata": {},
   "outputs": [],
   "source": [
    "# TODO: set meme style\n",
    "style = \" The meme should be simple, featuring bold, caricatured characters with vivid colours, via very funny and imaginative imagery.\""
   ]
  },
  {
   "cell_type": "code",
   "execution_count": null,
   "metadata": {},
   "outputs": [],
   "source": [
    "def stability_prompt_body(prompt):\n",
    "    return {\n",
    "        \"steps\": 40,\n",
    "        \"width\": 1024,\n",
    "        \"height\": 1024,\n",
    "        \"seed\": 0,\n",
    "        \"cfg_scale\": 5,\n",
    "        \"samples\": 1,\n",
    "        \"text_prompts\": [\n",
    "            {\n",
    "            \"text\": \"Draw a meme which depicts: \" + prompt + style,\n",
    "            \"weight\": 1\n",
    "            },\n",
    "            {\n",
    "                \"text\": \"blurry, text, text box cloud\",\n",
    "                \"weight\": -1\n",
    "            }\n",
    "        ],\n",
    "    }"
   ]
  },
  {
   "cell_type": "markdown",
   "metadata": {},
   "source": [
    "# Image & Caption"
   ]
  },
  {
   "cell_type": "code",
   "execution_count": null,
   "metadata": {},
   "outputs": [],
   "source": [
    "def split_sentence(sentence):\n",
    "    words = sentence.split()\n",
    "    middle_index = len(words) // 2\n",
    "    words.insert(middle_index, '\\n')\n",
    "    return ' '.join(words)"
   ]
  },
  {
   "cell_type": "code",
   "execution_count": null,
   "metadata": {},
   "outputs": [],
   "source": [
    "def add_caption_and_save(image, seed, caption):\n",
    "    # create a new image with a white background, slightly taller to accommodate the caption\n",
    "    width, height = image.size\n",
    "    new_height = height + 100  # Adjust this value as needed\n",
    "    new_image = Image.new(\"RGB\", (width, new_height), \"white\")\n",
    "\n",
    "    # paste the original image onto the new image\n",
    "    new_image.paste(image, (0, 0))\n",
    "\n",
    "    # create a drawing context on the new image\n",
    "    draw = ImageDraw.Draw(new_image)\n",
    "\n",
    "    # calculate text size and position based on font size and caption\n",
    "    font = ImageFont.truetype(\"impact.ttf\", 35)\n",
    "    caption = caption.upper()\n",
    "    caption_wrap = textwrap.wrap(caption, width=60)\n",
    "    current_h, pad = height, 10\n",
    "    for line in caption_wrap:\n",
    "        w, h = draw.textsize(line, font=font)\n",
    "        draw.text(((width - w) / 2, current_h), line, fill=\"black\", font=font)\n",
    "        current_h += h + pad\n",
    "\n",
    "    # save the new image with the caption\n",
    "    new_image.save(f'./memes/meme_{str(seed)}.png')\n",
    "\n",
    "    # close the original image\n",
    "    new_image.close()"
   ]
  },
  {
   "cell_type": "code",
   "execution_count": null,
   "metadata": {},
   "outputs": [],
   "source": [
    "\"\"\"\n",
    "image = Image.open(\"memes/meme_2486965645.png\")\n",
    "seed = \"2486965645\"\n",
    "caption = \"Commodity Fetishism in the Modern Workplace: When productivity becomes a circus act and creativity is traded for chaos.\"\n",
    "add_caption_and_save(image, seed, caption)\n",
    "\"\"\""
   ]
  },
  {
   "cell_type": "markdown",
   "metadata": {},
   "source": [
    "# Generate Memes"
   ]
  },
  {
   "cell_type": "code",
   "execution_count": null,
   "metadata": {},
   "outputs": [],
   "source": [
    "# generate memes\n",
    "for single_response in range(1):\n",
    "    single_response = gpt_request()\n",
    "    for i in single_response.split(\"Prompt:\")[1:]:\n",
    "        # seperate caption from prompt\n",
    "        prompt = i.split(\"Caption:\")[0].strip()\n",
    "        caption = i.split(\"Caption:\")[1].strip().replace('\"', '')\n",
    "        print(\"\\nPrompt:\", prompt)\n",
    "        print(\"Caption:\", caption)\n",
    "\n",
    "        # forward prompt to stability ai\n",
    "        response = requests.post(\n",
    "            url,\n",
    "            headers=headers,\n",
    "            json=stability_prompt_body(prompt),\n",
    "        )\n",
    "        if response.status_code != 200:\n",
    "            raise Exception(\"Non-200 response: \" + str(response.text))\n",
    "\n",
    "        # get image and add caption into it\n",
    "        data = response.json()\n",
    "        seed = data[\"artifacts\"][0][\"seed\"]\n",
    "        image = Image.open(io.BytesIO(base64.decodebytes(bytes(data[\"artifacts\"][0][\"base64\"], \"utf-8\"))))\n",
    "        add_caption_and_save(image, seed, caption)\n",
    "\n",
    "        # add into the dataframe\n",
    "        new_row = {'prompt': prompt, 'caption': caption, 'seed':seed}\n",
    "        df_prompt = pd.concat([df_prompt, pd.DataFrame([new_row])], ignore_index=True)\n",
    "        \n",
    "# save all prompts\n",
    "df_prompt.to_csv(\"df_prompt.csv\", index=False)"
   ]
  },
  {
   "cell_type": "code",
   "execution_count": null,
   "metadata": {},
   "outputs": [],
   "source": [
    "df_prompt"
   ]
  }
 ],
 "metadata": {
  "kernelspec": {
   "display_name": "cuda_env",
   "language": "python",
   "name": "python3"
  },
  "language_info": {
   "codemirror_mode": {
    "name": "ipython",
    "version": 3
   },
   "file_extension": ".py",
   "mimetype": "text/x-python",
   "name": "python",
   "nbconvert_exporter": "python",
   "pygments_lexer": "ipython3",
   "version": "3.10.13"
  },
  "orig_nbformat": 4
 },
 "nbformat": 4,
 "nbformat_minor": 2
}
