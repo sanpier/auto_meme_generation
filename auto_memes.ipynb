{
 "cells": [
  {
   "cell_type": "code",
   "execution_count": 1,
   "metadata": {},
   "outputs": [],
   "source": [
    "import base64\n",
    "import io\n",
    "import openai\n",
    "import os\n",
    "import pandas as pd\n",
    "import requests\n",
    "import textwrap\n",
    "from PIL import Image, ImageDraw, ImageFont"
   ]
  },
  {
   "cell_type": "markdown",
   "metadata": {},
   "source": [
    "# OpenAI - API"
   ]
  },
  {
   "cell_type": "code",
   "execution_count": 2,
   "metadata": {},
   "outputs": [],
   "source": [
    "# load your API key from an environment variable or secret management service\n",
    "openai.api_key = os.getenv(\"OPENAI_API_KEY\")\n",
    "openai.api_timeout = 10"
   ]
  },
  {
   "cell_type": "code",
   "execution_count": 3,
   "metadata": {},
   "outputs": [
    {
     "name": "stdout",
     "output_type": "stream",
     "text": [
      "['text-similarity-curie-001', 'gpt-4', 'gpt-4-0314', 'babbage', 'text-babbage-001', 'curie-similarity', 'davinci', 'code-davinci-edit-001', 'curie-instruct-beta', 'davinci-search-query', 'code-search-ada-code-001', 'text-curie-001', 'davinci-search-document', 'ada-code-search-text', 'text-davinci-001', 'text-search-davinci-query-001', 'code-search-ada-text-001', 'ada-code-search-code', 'babbage-002', 'babbage-search-document', 'text-search-curie-query-001', 'davinci-002', 'text-search-davinci-doc-001', 'text-embedding-ada-002', 'davinci-instruct-beta', 'davinci-similarity', 'ada-search-query', 'text-search-babbage-query-001', 'text-search-curie-doc-001', 'text-davinci-002', 'text-similarity-davinci-001', 'babbage-code-search-code', 'ada-search-document', 'text-search-babbage-doc-001', 'text-davinci-edit-001', 'gpt-3.5-turbo-0613', 'whisper-1', 'ada', 'code-search-babbage-code-001', 'text-ada-001', 'ada-similarity', 'code-search-babbage-text-001', 'gpt-4-0613', 'gpt-3.5-turbo-0301', 'curie', 'gpt-3.5-turbo', 'babbage-code-search-text', 'gpt-3.5-turbo-16k', 'text-search-ada-query-001', 'text-similarity-babbage-001', 'curie-search-document', 'gpt-3.5-turbo-16k-0613', 'text-similarity-ada-001', 'text-search-ada-doc-001', 'babbage-similarity', 'babbage-search-query', 'text-davinci-003', 'curie-search-query']\n"
     ]
    }
   ],
   "source": [
    "# list engines\n",
    "engines = openai.Engine.list()\n",
    "\n",
    "# print the first engine's id\n",
    "print([i.id for i in engines.data])"
   ]
  },
  {
   "cell_type": "code",
   "execution_count": 4,
   "metadata": {},
   "outputs": [],
   "source": [
    "# TODO: list roles\n",
    "role = \"Your task is to write prompts that will be used in text to image models for generating memes. \\\n",
    "        Your response can have multiple prompts in the following format for each: a long prompt that describes a funny and agitative situtation starting with 'Prompt:', \\\n",
    "        then the caption of the corresponding meme that follows the prompt starting with 'Caption:'.\"\n",
    "user = \"Please try to come up with imaginative, very funny and novel memes, that describes specific situations. \\\n",
    "        Memes should be sarcastic and didactic, and should make laugh people while make them thinking about the society they live in. \\\n",
    "        Would be great to have the main themes about critism of capitalism, critism of commodity fetishism, alienation, critisim of while collar people and corporate culture, or class inequality. \\\n",
    "        Ideologically, these memes should be positioned in economic-left.\""
   ]
  },
  {
   "cell_type": "code",
   "execution_count": 32,
   "metadata": {},
   "outputs": [
    {
     "name": "stdout",
     "output_type": "stream",
     "text": [
      "(20, 3)\n"
     ]
    }
   ],
   "source": [
    "#df_prompt = pd.DataFrame(columns=[\"prompt\", \"caption\", \"seed\"])\n",
    "df_prompt = pd.read_csv(\"df_prompt.csv\")\n",
    "print(df_prompt.shape)"
   ]
  },
  {
   "cell_type": "code",
   "execution_count": 6,
   "metadata": {},
   "outputs": [],
   "source": [
    "def gpt_request():\n",
    "    # ask the prompt\n",
    "    response = \"\"\n",
    "    try:\n",
    "        response = openai.ChatCompletion.create(\n",
    "            model= \"gpt-3.5-turbo\", # \"gpt-4\", \"gpt-3.5-turbo\",\n",
    "            temperature=1,\n",
    "            messages=[\n",
    "                {\"role\": \"system\", \"content\": role},\n",
    "                {\"role\": \"user\", \"content\": user},\n",
    "            ]\n",
    "        )\n",
    "    except:\n",
    "        pass\n",
    "    # return result\n",
    "    result = ''\n",
    "    try:\n",
    "        for choice in response.choices:\n",
    "            result += choice.message.content\n",
    "    except: \n",
    "        pass\n",
    "    return result"
   ]
  },
  {
   "cell_type": "code",
   "execution_count": 7,
   "metadata": {},
   "outputs": [],
   "source": [
    "#prompt = gpt_request()\n",
    "#prompt"
   ]
  },
  {
   "cell_type": "markdown",
   "metadata": {},
   "source": [
    "# Stability - API"
   ]
  },
  {
   "cell_type": "code",
   "execution_count": 8,
   "metadata": {},
   "outputs": [],
   "source": [
    "# constants\n",
    "url = \"https://api.stability.ai/v1/generation/stable-diffusion-xl-1024-v1-0/text-to-image\"\n",
    "\n",
    "headers = {\n",
    "  \"Accept\": \"application/json\",\n",
    "  \"Content-Type\": \"application/json\",\n",
    "  \"Authorization\": \"sk-V0cNL6sSbOxye4pGeLYLUKwPv350WWmU2YGyHRajZVNnh0z4\",\n",
    "}"
   ]
  },
  {
   "cell_type": "code",
   "execution_count": 9,
   "metadata": {},
   "outputs": [],
   "source": [
    "# TODO: set meme style\n",
    "style = \" The meme should be simple, featuring bold, caricatured characters with vivid colours, via very funny and imaginative imagery.\""
   ]
  },
  {
   "cell_type": "code",
   "execution_count": 10,
   "metadata": {},
   "outputs": [],
   "source": [
    "def stability_prompt_body(prompt):\n",
    "    return {\n",
    "        \"steps\": 40,\n",
    "        \"width\": 1024,\n",
    "        \"height\": 1024,\n",
    "        \"seed\": 0,\n",
    "        \"cfg_scale\": 5,\n",
    "        \"samples\": 1,\n",
    "        \"text_prompts\": [\n",
    "            {\n",
    "            \"text\": \"Draw a meme which depicts: \" + prompt + style,\n",
    "            \"weight\": 1\n",
    "            },\n",
    "            {\n",
    "                \"text\": \"blurry, text, text box cloud\",\n",
    "                \"weight\": -1\n",
    "            }\n",
    "        ],\n",
    "    }"
   ]
  },
  {
   "cell_type": "markdown",
   "metadata": {},
   "source": [
    "# Image & Caption"
   ]
  },
  {
   "cell_type": "code",
   "execution_count": 11,
   "metadata": {},
   "outputs": [],
   "source": [
    "def split_sentence(sentence):\n",
    "    words = sentence.split()\n",
    "    middle_index = len(words) // 2\n",
    "    words.insert(middle_index, '\\n')\n",
    "    return ' '.join(words)"
   ]
  },
  {
   "cell_type": "code",
   "execution_count": 22,
   "metadata": {},
   "outputs": [],
   "source": [
    "def add_caption_and_save(image, seed, caption):\n",
    "    # create a new image with a white background, slightly taller to accommodate the caption\n",
    "    width, height = image.size\n",
    "    new_height = height + 100  # Adjust this value as needed\n",
    "    new_image = Image.new(\"RGB\", (width, new_height), \"white\")\n",
    "\n",
    "    # paste the original image onto the new image\n",
    "    new_image.paste(image, (0, 0))\n",
    "\n",
    "    # create a drawing context on the new image\n",
    "    draw = ImageDraw.Draw(new_image)\n",
    "\n",
    "    # calculate text size and position based on font size and caption\n",
    "    font = ImageFont.truetype(\"impact.ttf\", 35)\n",
    "    caption = caption.upper()\n",
    "    caption_wrap = textwrap.wrap(caption, width=60)\n",
    "    current_h, pad = height, 10\n",
    "    for line in caption_wrap:\n",
    "        w, h = draw.textsize(line, font=font)\n",
    "        draw.text(((width - w) / 2, current_h), line, fill=\"black\", font=font)\n",
    "        current_h += h + pad\n",
    "\n",
    "    # save the new image with the caption\n",
    "    new_image.save(f'./memes/meme_{str(seed)}.png')\n",
    "\n",
    "    # close the original image\n",
    "    new_image.close()"
   ]
  },
  {
   "cell_type": "code",
   "execution_count": 23,
   "metadata": {},
   "outputs": [],
   "source": [
    "\"\"\"\n",
    "image = Image.open(\"memes/meme_2486965645.png\")\n",
    "seed = \"2486965645\"\n",
    "caption = \"Commodity Fetishism in the Modern Workplace: When productivity becomes a circus act and creativity is traded for chaos.\"\n",
    "add_caption_and_save(image, seed, caption)\n",
    "\"\"\""
   ]
  },
  {
   "cell_type": "markdown",
   "metadata": {},
   "source": [
    "# Generate Memes"
   ]
  },
  {
   "cell_type": "code",
   "execution_count": 33,
   "metadata": {},
   "outputs": [
    {
     "name": "stdout",
     "output_type": "stream",
     "text": [
      "\n",
      "Prompt: Imagine a world where money grows on trees, and instead of leaves, you see crisp dollar bills. The branches sway gently in the wind, tempting all who pass by. People are seen picking the money off the trees and stuffing it into their pockets. Your task is to create a meme that captures this situation, using an image and a hilarious caption.\n",
      "Caption: When you finally find the perfect job: Tree Whisperer!\n"
     ]
    },
    {
     "name": "stderr",
     "output_type": "stream",
     "text": [
      "C:\\Users\\san-p\\AppData\\Local\\Temp\\ipykernel_52244\\300866474.py:25: FutureWarning: The frame.append method is deprecated and will be removed from pandas in a future version. Use pandas.concat instead.\n",
      "  df_prompt = df_prompt.append(new_row, ignore_index=True)\n"
     ]
    },
    {
     "name": "stdout",
     "output_type": "stream",
     "text": [
      "\n",
      "Prompt: Picture a bustling office where employees are sitting at their desks, typing away furiously. Suddenly, a giant inflatable rat bursts through the office walls and starts rampaging around, causing chaos and knocking over cubicles. Interact with the scenario and create a clever meme that shows the absurdity of corporate culture.\n",
      "Caption: When your office pet gets out of control: Meet Mr. Inflation, the Disgruntled Rat!\n"
     ]
    },
    {
     "name": "stderr",
     "output_type": "stream",
     "text": [
      "C:\\Users\\san-p\\AppData\\Local\\Temp\\ipykernel_52244\\300866474.py:25: FutureWarning: The frame.append method is deprecated and will be removed from pandas in a future version. Use pandas.concat instead.\n",
      "  df_prompt = df_prompt.append(new_row, ignore_index=True)\n"
     ]
    },
    {
     "name": "stdout",
     "output_type": "stream",
     "text": [
      "\n",
      "Prompt: Visualize a world where people wear suits made entirely out of branded logos, from head to toe. The streets are littered with name tag stickers, with each person proudly displaying their favorite corporation. In this logo-obsessed society, create a meme that highlights the extreme commodification of our daily lives.\n",
      "Caption: When being fashionably corporate means wearing everything but your true identity!\n"
     ]
    },
    {
     "name": "stderr",
     "output_type": "stream",
     "text": [
      "C:\\Users\\san-p\\AppData\\Local\\Temp\\ipykernel_52244\\300866474.py:25: FutureWarning: The frame.append method is deprecated and will be removed from pandas in a future version. Use pandas.concat instead.\n",
      "  df_prompt = df_prompt.append(new_row, ignore_index=True)\n"
     ]
    },
    {
     "name": "stdout",
     "output_type": "stream",
     "text": [
      "\n",
      "Prompt: Imagine a scenario where employees in a corporate board meeting are transformed into sheep, while the CEO sits at the head of the table, donning a wolf mask. The sheep nod in agreement to every decision, totally oblivious to their own exploitation. Use this scenario to create a thought-provoking meme that critiques the blind obedience and lack of critical thinking within hierarchical structures.\n",
      "Caption: When your boss says 'Jump,' and instead of asking 'Why?' you start knitting wool sweaters!\n"
     ]
    },
    {
     "name": "stderr",
     "output_type": "stream",
     "text": [
      "C:\\Users\\san-p\\AppData\\Local\\Temp\\ipykernel_52244\\300866474.py:25: FutureWarning: The frame.append method is deprecated and will be removed from pandas in a future version. Use pandas.concat instead.\n",
      "  df_prompt = df_prompt.append(new_row, ignore_index=True)\n"
     ]
    },
    {
     "name": "stdout",
     "output_type": "stream",
     "text": [
      "\n",
      "Prompt: In a world where success and privilege are determined by the brand of your car, picture rush hour traffic where the roads are overcrowded with luxury vehicles. People are seen crawling out of their sunroofs, frantically checking their watches, as they compete to outdo one another. Create a meme that highlights the absurdity of status symbols and the underlying class inequality present in our society.\n",
      "Caption: When you're fashionably late, but your Tesla is Fashionably Later!\n",
      "\n",
      "Note: The prompts and captions provided strive to align with the requested themes of critiquing capitalism, commodity fetishism, alienation, white-collar culture, and class inequality, while aiming to be funny and thought-provoking.\n"
     ]
    },
    {
     "name": "stderr",
     "output_type": "stream",
     "text": [
      "C:\\Users\\san-p\\AppData\\Local\\Temp\\ipykernel_52244\\300866474.py:25: FutureWarning: The frame.append method is deprecated and will be removed from pandas in a future version. Use pandas.concat instead.\n",
      "  df_prompt = df_prompt.append(new_row, ignore_index=True)\n"
     ]
    },
    {
     "name": "stdout",
     "output_type": "stream",
     "text": [
      "\n",
      "Prompt: In a world run by corporate giants, where every decision is driven by profit, a meme captures the frustrating reality of a worker's life.\n",
      "Caption: When the boss says 'teamwork makes the dream work,' but you're the only one doing any work.\n"
     ]
    },
    {
     "name": "stderr",
     "output_type": "stream",
     "text": [
      "C:\\Users\\san-p\\AppData\\Local\\Temp\\ipykernel_52244\\300866474.py:25: FutureWarning: The frame.append method is deprecated and will be removed from pandas in a future version. Use pandas.concat instead.\n",
      "  df_prompt = df_prompt.append(new_row, ignore_index=True)\n"
     ]
    },
    {
     "name": "stdout",
     "output_type": "stream",
     "text": [
      "\n",
      "Prompt: In a society obsessed with material possessions, a meme humorously highlights the absurdity of consumerism.\n",
      "Caption: Me trying to find happiness in a shopping cart filled with stuff I don't need.\n"
     ]
    },
    {
     "name": "stderr",
     "output_type": "stream",
     "text": [
      "C:\\Users\\san-p\\AppData\\Local\\Temp\\ipykernel_52244\\300866474.py:25: FutureWarning: The frame.append method is deprecated and will be removed from pandas in a future version. Use pandas.concat instead.\n",
      "  df_prompt = df_prompt.append(new_row, ignore_index=True)\n"
     ]
    },
    {
     "name": "stdout",
     "output_type": "stream",
     "text": [
      "\n",
      "Prompt: In a competitive corporate environment, where individual success is valued over collaboration, a meme satirizes the cutthroat nature of climbing the career ladder.\n",
      "Caption: When you're expected to 'support' your colleagues, but secretly hope they all get food poisoning before the promotion announcement.\n"
     ]
    },
    {
     "name": "stderr",
     "output_type": "stream",
     "text": [
      "C:\\Users\\san-p\\AppData\\Local\\Temp\\ipykernel_52244\\300866474.py:25: FutureWarning: The frame.append method is deprecated and will be removed from pandas in a future version. Use pandas.concat instead.\n",
      "  df_prompt = df_prompt.append(new_row, ignore_index=True)\n"
     ]
    },
    {
     "name": "stdout",
     "output_type": "stream",
     "text": [
      "\n",
      "Prompt: Amidst soul-crushing office politics, a meme captures the universal struggle of employees pretending to work while actually procrastinating.\n",
      "Caption: Me pretending to be deep in thought, but actually contemplating my escape plan from this corporate prison.\n"
     ]
    },
    {
     "name": "stderr",
     "output_type": "stream",
     "text": [
      "C:\\Users\\san-p\\AppData\\Local\\Temp\\ipykernel_52244\\300866474.py:25: FutureWarning: The frame.append method is deprecated and will be removed from pandas in a future version. Use pandas.concat instead.\n",
      "  df_prompt = df_prompt.append(new_row, ignore_index=True)\n"
     ]
    },
    {
     "name": "stdout",
     "output_type": "stream",
     "text": [
      "\n",
      "Prompt: In a world where billionaires keep getting richer while the rest struggle to make ends meet, a meme portrays the stark inequality of wealth distribution.\n",
      "Caption: When you see a yacht bigger than your living space sailing past your rented apartment.\n"
     ]
    },
    {
     "name": "stderr",
     "output_type": "stream",
     "text": [
      "C:\\Users\\san-p\\AppData\\Local\\Temp\\ipykernel_52244\\300866474.py:25: FutureWarning: The frame.append method is deprecated and will be removed from pandas in a future version. Use pandas.concat instead.\n",
      "  df_prompt = df_prompt.append(new_row, ignore_index=True)\n"
     ]
    },
    {
     "name": "stdout",
     "output_type": "stream",
     "text": [
      "\n",
      "Prompt: A meme exposes the hypocrisy of corporations, who claim to care about the environment while still contributing to its destruction.\n",
      "Caption: When a company brags about their 'eco-friendly' packaging, but it's still just 99% plastic.\n"
     ]
    },
    {
     "name": "stderr",
     "output_type": "stream",
     "text": [
      "C:\\Users\\san-p\\AppData\\Local\\Temp\\ipykernel_52244\\300866474.py:25: FutureWarning: The frame.append method is deprecated and will be removed from pandas in a future version. Use pandas.concat instead.\n",
      "  df_prompt = df_prompt.append(new_row, ignore_index=True)\n"
     ]
    },
    {
     "name": "stdout",
     "output_type": "stream",
     "text": [
      "\n",
      "Prompt: In a society ruled by white-collar norms, a meme hilariously highlights the contrast between office politics and reality.\n",
      "Caption: Me at work: Professional and polite. Me in traffic: A raging psychopath with a lot of road rage potential.\n"
     ]
    },
    {
     "name": "stderr",
     "output_type": "stream",
     "text": [
      "C:\\Users\\san-p\\AppData\\Local\\Temp\\ipykernel_52244\\300866474.py:25: FutureWarning: The frame.append method is deprecated and will be removed from pandas in a future version. Use pandas.concat instead.\n",
      "  df_prompt = df_prompt.append(new_row, ignore_index=True)\n"
     ]
    },
    {
     "name": "stdout",
     "output_type": "stream",
     "text": [
      "\n",
      "Prompt: A meme emphasizes the difficulties of navigating through corporate jargon and buzzwords that seem to defy common sense.\n",
      "Caption: When someone says 'Let's circle back and ideate on a granular level'... and you have no idea what the f#&% they mean.\n"
     ]
    },
    {
     "name": "stderr",
     "output_type": "stream",
     "text": [
      "C:\\Users\\san-p\\AppData\\Local\\Temp\\ipykernel_52244\\300866474.py:25: FutureWarning: The frame.append method is deprecated and will be removed from pandas in a future version. Use pandas.concat instead.\n",
      "  df_prompt = df_prompt.append(new_row, ignore_index=True)\n"
     ]
    },
    {
     "name": "stdout",
     "output_type": "stream",
     "text": [
      "\n",
      "Prompt: In a world where individuality is suppressed, a meme reflects the struggle to maintain authenticity in a conformist society.\n",
      "Caption: Me trying to fit into society's mold... but I'm a stubborn piece of Play-Doh.\n"
     ]
    },
    {
     "name": "stderr",
     "output_type": "stream",
     "text": [
      "C:\\Users\\san-p\\AppData\\Local\\Temp\\ipykernel_52244\\300866474.py:25: FutureWarning: The frame.append method is deprecated and will be removed from pandas in a future version. Use pandas.concat instead.\n",
      "  df_prompt = df_prompt.append(new_row, ignore_index=True)\n"
     ]
    },
    {
     "name": "stdout",
     "output_type": "stream",
     "text": [
      "\n",
      "Prompt: A meme mocks the concept of work-life balance, highlighting the demanding nature of modern jobs.\n",
      "Caption: When 'working from home' means answering emails from your boss while rewatching every season of 'Friends'.\n"
     ]
    },
    {
     "name": "stderr",
     "output_type": "stream",
     "text": [
      "C:\\Users\\san-p\\AppData\\Local\\Temp\\ipykernel_52244\\300866474.py:25: FutureWarning: The frame.append method is deprecated and will be removed from pandas in a future version. Use pandas.concat instead.\n",
      "  df_prompt = df_prompt.append(new_row, ignore_index=True)\n"
     ]
    }
   ],
   "source": [
    "# generate memes\n",
    "for single_response in range(3):\n",
    "    single_response = gpt_request()\n",
    "    for i in single_response.split(\"Prompt:\")[1:]:\n",
    "        prompt = i.split(\"Caption:\")[0].strip()\n",
    "        caption = i.split(\"Caption:\")[1].strip().replace('\"', '')\n",
    "        print(\"\\nPrompt:\", prompt)\n",
    "        print(\"Caption:\", caption)\n",
    "\n",
    "        response = requests.post(\n",
    "            url,\n",
    "            headers=headers,\n",
    "            json=stability_prompt_body(prompt),\n",
    "        )\n",
    "\n",
    "        if response.status_code != 200:\n",
    "            raise Exception(\"Non-200 response: \" + str(response.text))\n",
    "\n",
    "        data = response.json()\n",
    "        seed = data[\"artifacts\"][0][\"seed\"]\n",
    "        image = Image.open(io.BytesIO(base64.decodebytes(bytes(data[\"artifacts\"][0][\"base64\"], \"utf-8\"))))\n",
    "        add_caption_and_save(image, seed, caption)\n",
    "\n",
    "        new_row = {'prompt': prompt, 'caption': caption, 'seed':seed}\n",
    "        df_prompt = df_prompt.append(new_row, ignore_index=True)"
   ]
  },
  {
   "cell_type": "code",
   "execution_count": 34,
   "metadata": {},
   "outputs": [
    {
     "data": {
      "text/html": [
       "<div>\n",
       "<style scoped>\n",
       "    .dataframe tbody tr th:only-of-type {\n",
       "        vertical-align: middle;\n",
       "    }\n",
       "\n",
       "    .dataframe tbody tr th {\n",
       "        vertical-align: top;\n",
       "    }\n",
       "\n",
       "    .dataframe thead th {\n",
       "        text-align: right;\n",
       "    }\n",
       "</style>\n",
       "<table border=\"1\" class=\"dataframe\">\n",
       "  <thead>\n",
       "    <tr style=\"text-align: right;\">\n",
       "      <th></th>\n",
       "      <th>prompt</th>\n",
       "      <th>caption</th>\n",
       "      <th>seed</th>\n",
       "    </tr>\n",
       "  </thead>\n",
       "  <tbody>\n",
       "    <tr>\n",
       "      <th>0</th>\n",
       "      <td>In a world ruled by capitalism, a meme that po...</td>\n",
       "      <td>Capitalism: Making sure the rich never miss a ...</td>\n",
       "      <td>530730371</td>\n",
       "    </tr>\n",
       "    <tr>\n",
       "      <th>1</th>\n",
       "      <td>Picture a chaotic office environment with empl...</td>\n",
       "      <td>Commodity Fetishism in the Modern Workplace: W...</td>\n",
       "      <td>4079648354</td>\n",
       "    </tr>\n",
       "    <tr>\n",
       "      <th>2</th>\n",
       "      <td>Imagine a meme with a line of identical worker...</td>\n",
       "      <td>Breaking Free from the Assembly Line of Confor...</td>\n",
       "      <td>3721060941</td>\n",
       "    </tr>\n",
       "    <tr>\n",
       "      <th>3</th>\n",
       "      <td>Picture a meme showing a group of corporate ex...</td>\n",
       "      <td>Corporate Culture: Where the red nose is not j...</td>\n",
       "      <td>55447854</td>\n",
       "    </tr>\n",
       "    <tr>\n",
       "      <th>4</th>\n",
       "      <td>Envision a meme with a large-scale mansion loo...</td>\n",
       "      <td>Class Inequality: The precariousness of the wo...</td>\n",
       "      <td>943380404</td>\n",
       "    </tr>\n",
       "    <tr>\n",
       "      <th>5</th>\n",
       "      <td>Imagine a meme with a conveyor belt in a facto...</td>\n",
       "      <td>White Collar Life: When a moving assembly line...</td>\n",
       "      <td>1561050219</td>\n",
       "    </tr>\n",
       "    <tr>\n",
       "      <th>6</th>\n",
       "      <td>Picture a meme showing a stack of money with a...</td>\n",
       "      <td>The Loneliness of Wealth: When the pursuit of ...</td>\n",
       "      <td>3001369557</td>\n",
       "    </tr>\n",
       "    <tr>\n",
       "      <th>7</th>\n",
       "      <td>In a world where suits are the norm, imagine a...</td>\n",
       "      <td>Comfy Revolution: Rejecting the notion that pr...</td>\n",
       "      <td>878875540</td>\n",
       "    </tr>\n",
       "    <tr>\n",
       "      <th>8</th>\n",
       "      <td>Picture a meme showing a broken escalator, wit...</td>\n",
       "      <td>The Illusion of Upward Mobility: When progress...</td>\n",
       "      <td>1464511519</td>\n",
       "    </tr>\n",
       "    <tr>\n",
       "      <th>9</th>\n",
       "      <td>Envision a meme depicting a swarm of office wo...</td>\n",
       "      <td>Chasing Corporate Success: When the elusive re...</td>\n",
       "      <td>4193377371</td>\n",
       "    </tr>\n",
       "    <tr>\n",
       "      <th>10</th>\n",
       "      <td>When you leave work on Friday feeling exhauste...</td>\n",
       "      <td>Capitalism: destroying work-life balance since...</td>\n",
       "      <td>3237742133</td>\n",
       "    </tr>\n",
       "    <tr>\n",
       "      <th>11</th>\n",
       "      <td>When you overhear your boss bragging about the...</td>\n",
       "      <td>Spend your money wisely, they said. Meanwhile,...</td>\n",
       "      <td>3834967173</td>\n",
       "    </tr>\n",
       "    <tr>\n",
       "      <th>12</th>\n",
       "      <td>When your alarm goes off for yet another day o...</td>\n",
       "      <td>Me: Why did I choose this career? My bills: Al...</td>\n",
       "      <td>4261061993</td>\n",
       "    </tr>\n",
       "    <tr>\n",
       "      <th>13</th>\n",
       "      <td>When you see someone using the office coffee m...</td>\n",
       "      <td>When your office becomes a bougie Starbucks.</td>\n",
       "      <td>1884655100</td>\n",
       "    </tr>\n",
       "    <tr>\n",
       "      <th>14</th>\n",
       "      <td>When you spot a colleague taking credit for yo...</td>\n",
       "      <td>When they steal your idea like it's their own,...</td>\n",
       "      <td>1310138566</td>\n",
       "    </tr>\n",
       "    <tr>\n",
       "      <th>15</th>\n",
       "      <td>When you realize you've spent more on corporat...</td>\n",
       "      <td>Just a friendly reminder that my hobbies are s...</td>\n",
       "      <td>2558951861</td>\n",
       "    </tr>\n",
       "    <tr>\n",
       "      <th>16</th>\n",
       "      <td>When you try to calculate the amount of money ...</td>\n",
       "      <td>This office runs on paper, and I run on despair.</td>\n",
       "      <td>3971238613</td>\n",
       "    </tr>\n",
       "    <tr>\n",
       "      <th>17</th>\n",
       "      <td>When you're expected to work overtime for no e...</td>\n",
       "      <td>When slavery gets a fancy rebranding.</td>\n",
       "      <td>2848091841</td>\n",
       "    </tr>\n",
       "    <tr>\n",
       "      <th>18</th>\n",
       "      <td>When your performance review focuses more on y...</td>\n",
       "      <td>When they care more about my fashion-forwardne...</td>\n",
       "      <td>1630108990</td>\n",
       "    </tr>\n",
       "    <tr>\n",
       "      <th>19</th>\n",
       "      <td>When you realize you have more work friends th...</td>\n",
       "      <td>Me at work: surrounded by people. Me outside o...</td>\n",
       "      <td>2397689812</td>\n",
       "    </tr>\n",
       "    <tr>\n",
       "      <th>20</th>\n",
       "      <td>Imagine a world where money grows on trees, an...</td>\n",
       "      <td>When you finally find the perfect job: Tree Wh...</td>\n",
       "      <td>4097699537</td>\n",
       "    </tr>\n",
       "    <tr>\n",
       "      <th>21</th>\n",
       "      <td>Picture a bustling office where employees are ...</td>\n",
       "      <td>When your office pet gets out of control: Meet...</td>\n",
       "      <td>3264165675</td>\n",
       "    </tr>\n",
       "    <tr>\n",
       "      <th>22</th>\n",
       "      <td>Visualize a world where people wear suits made...</td>\n",
       "      <td>When being fashionably corporate means wearing...</td>\n",
       "      <td>2129189852</td>\n",
       "    </tr>\n",
       "    <tr>\n",
       "      <th>23</th>\n",
       "      <td>Imagine a scenario where employees in a corpor...</td>\n",
       "      <td>When your boss says 'Jump,' and instead of ask...</td>\n",
       "      <td>33247220</td>\n",
       "    </tr>\n",
       "    <tr>\n",
       "      <th>24</th>\n",
       "      <td>In a world where success and privilege are det...</td>\n",
       "      <td>When you're fashionably late, but your Tesla i...</td>\n",
       "      <td>1179386782</td>\n",
       "    </tr>\n",
       "    <tr>\n",
       "      <th>25</th>\n",
       "      <td>In a world run by corporate giants, where ever...</td>\n",
       "      <td>When the boss says 'teamwork makes the dream w...</td>\n",
       "      <td>1913567095</td>\n",
       "    </tr>\n",
       "    <tr>\n",
       "      <th>26</th>\n",
       "      <td>In a society obsessed with material possession...</td>\n",
       "      <td>Me trying to find happiness in a shopping cart...</td>\n",
       "      <td>2313286152</td>\n",
       "    </tr>\n",
       "    <tr>\n",
       "      <th>27</th>\n",
       "      <td>In a competitive corporate environment, where ...</td>\n",
       "      <td>When you're expected to 'support' your colleag...</td>\n",
       "      <td>1954702899</td>\n",
       "    </tr>\n",
       "    <tr>\n",
       "      <th>28</th>\n",
       "      <td>Amidst soul-crushing office politics, a meme c...</td>\n",
       "      <td>Me pretending to be deep in thought, but actua...</td>\n",
       "      <td>2127392104</td>\n",
       "    </tr>\n",
       "    <tr>\n",
       "      <th>29</th>\n",
       "      <td>In a world where billionaires keep getting ric...</td>\n",
       "      <td>When you see a yacht bigger than your living s...</td>\n",
       "      <td>2136677987</td>\n",
       "    </tr>\n",
       "    <tr>\n",
       "      <th>30</th>\n",
       "      <td>A meme exposes the hypocrisy of corporations, ...</td>\n",
       "      <td>When a company brags about their 'eco-friendly...</td>\n",
       "      <td>1788263232</td>\n",
       "    </tr>\n",
       "    <tr>\n",
       "      <th>31</th>\n",
       "      <td>In a society ruled by white-collar norms, a me...</td>\n",
       "      <td>Me at work: Professional and polite. Me in tra...</td>\n",
       "      <td>2548038842</td>\n",
       "    </tr>\n",
       "    <tr>\n",
       "      <th>32</th>\n",
       "      <td>A meme emphasizes the difficulties of navigati...</td>\n",
       "      <td>When someone says 'Let's circle back and ideat...</td>\n",
       "      <td>295244986</td>\n",
       "    </tr>\n",
       "    <tr>\n",
       "      <th>33</th>\n",
       "      <td>In a world where individuality is suppressed, ...</td>\n",
       "      <td>Me trying to fit into society's mold... but I'...</td>\n",
       "      <td>340348699</td>\n",
       "    </tr>\n",
       "    <tr>\n",
       "      <th>34</th>\n",
       "      <td>A meme mocks the concept of work-life balance,...</td>\n",
       "      <td>When 'working from home' means answering email...</td>\n",
       "      <td>4098431090</td>\n",
       "    </tr>\n",
       "  </tbody>\n",
       "</table>\n",
       "</div>"
      ],
      "text/plain": [
       "                                               prompt  \\\n",
       "0   In a world ruled by capitalism, a meme that po...   \n",
       "1   Picture a chaotic office environment with empl...   \n",
       "2   Imagine a meme with a line of identical worker...   \n",
       "3   Picture a meme showing a group of corporate ex...   \n",
       "4   Envision a meme with a large-scale mansion loo...   \n",
       "5   Imagine a meme with a conveyor belt in a facto...   \n",
       "6   Picture a meme showing a stack of money with a...   \n",
       "7   In a world where suits are the norm, imagine a...   \n",
       "8   Picture a meme showing a broken escalator, wit...   \n",
       "9   Envision a meme depicting a swarm of office wo...   \n",
       "10  When you leave work on Friday feeling exhauste...   \n",
       "11  When you overhear your boss bragging about the...   \n",
       "12  When your alarm goes off for yet another day o...   \n",
       "13  When you see someone using the office coffee m...   \n",
       "14  When you spot a colleague taking credit for yo...   \n",
       "15  When you realize you've spent more on corporat...   \n",
       "16  When you try to calculate the amount of money ...   \n",
       "17  When you're expected to work overtime for no e...   \n",
       "18  When your performance review focuses more on y...   \n",
       "19  When you realize you have more work friends th...   \n",
       "20  Imagine a world where money grows on trees, an...   \n",
       "21  Picture a bustling office where employees are ...   \n",
       "22  Visualize a world where people wear suits made...   \n",
       "23  Imagine a scenario where employees in a corpor...   \n",
       "24  In a world where success and privilege are det...   \n",
       "25  In a world run by corporate giants, where ever...   \n",
       "26  In a society obsessed with material possession...   \n",
       "27  In a competitive corporate environment, where ...   \n",
       "28  Amidst soul-crushing office politics, a meme c...   \n",
       "29  In a world where billionaires keep getting ric...   \n",
       "30  A meme exposes the hypocrisy of corporations, ...   \n",
       "31  In a society ruled by white-collar norms, a me...   \n",
       "32  A meme emphasizes the difficulties of navigati...   \n",
       "33  In a world where individuality is suppressed, ...   \n",
       "34  A meme mocks the concept of work-life balance,...   \n",
       "\n",
       "                                              caption        seed  \n",
       "0   Capitalism: Making sure the rich never miss a ...   530730371  \n",
       "1   Commodity Fetishism in the Modern Workplace: W...  4079648354  \n",
       "2   Breaking Free from the Assembly Line of Confor...  3721060941  \n",
       "3   Corporate Culture: Where the red nose is not j...    55447854  \n",
       "4   Class Inequality: The precariousness of the wo...   943380404  \n",
       "5   White Collar Life: When a moving assembly line...  1561050219  \n",
       "6   The Loneliness of Wealth: When the pursuit of ...  3001369557  \n",
       "7   Comfy Revolution: Rejecting the notion that pr...   878875540  \n",
       "8   The Illusion of Upward Mobility: When progress...  1464511519  \n",
       "9   Chasing Corporate Success: When the elusive re...  4193377371  \n",
       "10  Capitalism: destroying work-life balance since...  3237742133  \n",
       "11  Spend your money wisely, they said. Meanwhile,...  3834967173  \n",
       "12  Me: Why did I choose this career? My bills: Al...  4261061993  \n",
       "13       When your office becomes a bougie Starbucks.  1884655100  \n",
       "14  When they steal your idea like it's their own,...  1310138566  \n",
       "15  Just a friendly reminder that my hobbies are s...  2558951861  \n",
       "16   This office runs on paper, and I run on despair.  3971238613  \n",
       "17              When slavery gets a fancy rebranding.  2848091841  \n",
       "18  When they care more about my fashion-forwardne...  1630108990  \n",
       "19  Me at work: surrounded by people. Me outside o...  2397689812  \n",
       "20  When you finally find the perfect job: Tree Wh...  4097699537  \n",
       "21  When your office pet gets out of control: Meet...  3264165675  \n",
       "22  When being fashionably corporate means wearing...  2129189852  \n",
       "23  When your boss says 'Jump,' and instead of ask...    33247220  \n",
       "24  When you're fashionably late, but your Tesla i...  1179386782  \n",
       "25  When the boss says 'teamwork makes the dream w...  1913567095  \n",
       "26  Me trying to find happiness in a shopping cart...  2313286152  \n",
       "27  When you're expected to 'support' your colleag...  1954702899  \n",
       "28  Me pretending to be deep in thought, but actua...  2127392104  \n",
       "29  When you see a yacht bigger than your living s...  2136677987  \n",
       "30  When a company brags about their 'eco-friendly...  1788263232  \n",
       "31  Me at work: Professional and polite. Me in tra...  2548038842  \n",
       "32  When someone says 'Let's circle back and ideat...   295244986  \n",
       "33  Me trying to fit into society's mold... but I'...   340348699  \n",
       "34  When 'working from home' means answering email...  4098431090  "
      ]
     },
     "execution_count": 34,
     "metadata": {},
     "output_type": "execute_result"
    }
   ],
   "source": [
    "df_prompt"
   ]
  },
  {
   "cell_type": "code",
   "execution_count": 35,
   "metadata": {},
   "outputs": [],
   "source": [
    "# save all prompts\n",
    "df_prompt.to_csv(\"df_prompt.csv\", index=False)"
   ]
  }
 ],
 "metadata": {
  "kernelspec": {
   "display_name": "cuda_env",
   "language": "python",
   "name": "python3"
  },
  "language_info": {
   "codemirror_mode": {
    "name": "ipython",
    "version": 3
   },
   "file_extension": ".py",
   "mimetype": "text/x-python",
   "name": "python",
   "nbconvert_exporter": "python",
   "pygments_lexer": "ipython3",
   "version": "3.9.17"
  },
  "orig_nbformat": 4
 },
 "nbformat": 4,
 "nbformat_minor": 2
}
